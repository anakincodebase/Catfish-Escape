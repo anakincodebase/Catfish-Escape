{
 "cells": [
  {
   "cell_type": "markdown",
   "metadata": {},
   "source": [
    "# Jupyter NoteBook Basics "
   ]
  },
  {
   "cell_type": "markdown",
   "metadata": {},
   "source": [
    "\n",
    "## Author Information\n",
    "\n",
    "**Name:** Afnan Ahmed  \n",
    "**Nickname:** ANAKIN  \n",
    "**Profession:** Data Science Student  \n",
    "**Country:** Pakistan\n"
   ]
  },
  {
   "cell_type": "markdown",
   "metadata": {},
   "source": [
    "# In this notebook you will found multiple things!\n",
    "Here are some key variables defined in this notebook:\n",
    "\n",
    "- `hours`: A float representing the conversion of minutes to hours, with a value of 2.0.\n",
    "- `minutes`: An integer representing the total minutes, with a value of 120.\n",
    "- `my_name`: A string containing the name \"ANAKIN\".\n",
    "- `num1`: An integer with a value of 5.\n",
    "- `num2`: An integer with a value of 10.\n",
    "- `result_add`: An integer representing the sum of `num1` and `num2`, with a value of 15.\n",
    "- `result_multiply`: An integer representing the product of `num1` and `num2`, with a value of 50."
   ]
  },
  {
   "cell_type": "markdown",
   "metadata": {},
   "source": [
    "Some of the popular languages that Data Scientists use are:\n",
    "\n",
    "1. **Python**\n",
    "2. **R**\n",
    "3. **SQL**\n",
    "4. **Scala**\n",
    "5. **Java**\n",
    "6. **C++**\n",
    "7. **Julia**\n",
    "8. **JavaScript**\n",
    "9. **PHP**\n",
    "10. **Go**\n",
    "11. **Ruby**\n",
    "12. **Visual Basic**\n",
    "\n"
   ]
  },
  {
   "cell_type": "markdown",
   "metadata": {},
   "source": [
    "Some of the popular Data Science libraries are:\n",
    "\n",
    "1. **Pandas**\n",
    "2. **NumPy**\n",
    "3. **Matplotlib**\n",
    "4. **Seaborn**\n",
    "5. **Scikit-learn**\n",
    "6. **Keras**\n",
    "7. **TensorFlow**\n",
    "8. **PyTorch**\n",
    "9. **Apache Spark**\n",
    "10. **Vegas**\n",
    "11. **BigDL**\n",
    "12. **ggplot2**\n"
   ]
  },
  {
   "cell_type": "markdown",
   "metadata": {},
   "source": [
    "### Exercise 6: Table of Data Science Tools\n",
    "\n",
    "Below is a table showing some commonly used tools in Data Science:\n",
    "\n",
    "| Tool Name       | Category            | Description                                 |\n",
    "|-----------------|---------------------|---------------------------------------------|\n",
    "| Jupyter Notebook| IDE/Notebook         | Interactive computing environment           |\n",
    "| RStudio         | IDE                 | IDE for R and Python                        |\n",
    "| Apache Spark    | Big Data Framework   | Distributed processing of large data sets   |\n",
    "| TensorFlow      | Machine Learning     | Deep learning framework by Google           |\n",
    "| Scikit-learn    | Machine Learning     | ML algorithms for data mining and analysis  |\n",
    "| Tableau         | Data Visualization   | Visual analytics platform                   |\n",
    "| Power BI        | Data Visualization   | Business intelligence and visualization     |\n"
   ]
  },
  {
   "cell_type": "markdown",
   "metadata": {},
   "source": [
    "### Exercise 7: Arithmetic Expression Examples\n",
    "\n",
    "Below are examples of arithmetic expressions in Python that demonstrate basic mathematical operations such as addition, subtraction, multiplication, and division.\n"
   ]
  },
  {
   "cell_type": "code",
   "execution_count": 2,
   "metadata": {},
   "outputs": [
    {
     "name": "stdout",
     "output_type": "stream",
     "text": [
      "5 + 2 = 7\n",
      "9 - 4 = 5\n",
      "3 * 7 = 21\n",
      "10 / 2 = 5.0\n"
     ]
    }
   ],
   "source": [
    "# Addition\n",
    "print(\"5 + 2 =\", 5 + 2)\n",
    "\n",
    "# Subtraction\n",
    "print(\"9 - 4 =\", 9 - 4)\n",
    "\n",
    "# Multiplication\n",
    "print(\"3 * 7 =\", 3 * 7)\n",
    "\n",
    "# Division\n",
    "print(\"10 / 2 =\", 10 / 2)\n"
   ]
  },
  {
   "cell_type": "markdown",
   "metadata": {},
   "source": [
    "### Exercise 10: Data Science Disciplines\n",
    "\n",
    "There are several key disciplines within the field of Data Science. Here are a few of them:\n",
    "\n",
    "- Data Cleaning\n",
    "- Data Visualization\n",
    "- Machine Learning\n",
    "- Deep Learning\n",
    "- Statistical Analysis\n",
    "- Data Engineering\n",
    "- Natural Language Processing\n"
   ]
  },
  {
   "cell_type": "code",
   "execution_count": 43,
   "metadata": {},
   "outputs": [
    {
     "name": "stdout",
     "output_type": "stream",
     "text": [
      "Hello World\n"
     ]
    }
   ],
   "source": [
    "print(\"Hello World\")"
   ]
  },
  {
   "cell_type": "code",
   "execution_count": 44,
   "metadata": {},
   "outputs": [
    {
     "name": "stdout",
     "output_type": "stream",
     "text": [
      "Hello, ANAKIN\n"
     ]
    }
   ],
   "source": [
    "my_name= \"ANAKIN\"\n",
    "print(f\"Hello, {my_name}\")"
   ]
  },
  {
   "cell_type": "code",
   "execution_count": 45,
   "metadata": {},
   "outputs": [
    {
     "name": "stdout",
     "output_type": "stream",
     "text": [
      "Multiplication Result: 50\n",
      "Addition Result: 15\n"
     ]
    }
   ],
   "source": [
    "# Multiply and add numbers\n",
    "num1 = 5\n",
    "num2 = 10\n",
    "\n",
    "result_multiply = num1 * num2\n",
    "result_add = num1 + num2\n",
    "\n",
    "print(f\"Multiplication Result: {result_multiply}\")\n",
    "print(f\"Addition Result: {result_add}\")"
   ]
  },
  {
   "cell_type": "code",
   "execution_count": 46,
   "metadata": {},
   "outputs": [
    {
     "name": "stdout",
     "output_type": "stream",
     "text": [
      "120 minutes is equal to 2.0 hours\n"
     ]
    }
   ],
   "source": [
    "# Function to convert minutes to hours\n",
    "def minutes_to_hours(minutes):\n",
    "    return minutes / 60\n",
    "\n",
    "# Example usage\n",
    "minutes = 120\n",
    "hours = minutes_to_hours(minutes)\n",
    "print(f\"{minutes} minutes is equal to {hours} hours\")"
   ]
  },
  {
   "cell_type": "code",
   "execution_count": null,
   "metadata": {
    "vscode": {
     "languageId": "markdown"
    }
   },
   "outputs": [],
   "source": []
  },
  {
   "cell_type": "markdown",
   "metadata": {},
   "source": []
  }
 ],
 "metadata": {
  "kernelspec": {
   "display_name": "Python 3 (ipykernel)",
   "language": "python",
   "name": "python3"
  },
  "language_info": {
   "codemirror_mode": {
    "name": "ipython",
    "version": 3
   },
   "file_extension": ".py",
   "mimetype": "text/x-python",
   "name": "python",
   "nbconvert_exporter": "python",
   "pygments_lexer": "ipython3",
   "version": "3.12.7"
  }
 },
 "nbformat": 4,
 "nbformat_minor": 4
}
