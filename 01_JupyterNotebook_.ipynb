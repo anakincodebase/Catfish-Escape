{
 "cells": [
  {
   "cell_type": "markdown",
   "metadata": {},
   "source": [
    "# Jupyter NoteBook Basics "
   ]
  },
  {
   "cell_type": "markdown",
   "metadata": {},
   "source": [
    "\n",
    "## Author Information\n",
    "\n",
    "**Name:** Afnan Ahmed  \n",
    "**Nickname:** ANAKIN  \n",
    "**Profession:** Data Science Student  \n",
    "**Country:** Pakistan\n"
   ]
  },
  {
   "cell_type": "markdown",
   "metadata": {},
   "source": [
    "Here are some key variables defined in this notebook:\n",
    "\n",
    "- `hours`: A float representing the conversion of minutes to hours, with a value of 2.0.\n",
    "- `minutes`: An integer representing the total minutes, with a value of 120.\n",
    "- `my_name`: A string containing the name \"ANAKIN\".\n",
    "- `num1`: An integer with a value of 5.\n",
    "- `num2`: An integer with a value of 10.\n",
    "- `result_add`: An integer representing the sum of `num1` and `num2`, with a value of 15.\n",
    "- `result_multiply`: An integer representing the product of `num1` and `num2`, with a value of 50."
   ]
  },
  {
   "cell_type": "code",
   "execution_count": 32,
   "metadata": {},
   "outputs": [
    {
     "data": {
      "text/plain": [
       "2"
      ]
     },
     "execution_count": 32,
     "metadata": {},
     "output_type": "execute_result"
    }
   ],
   "source": [
    "1 + 1"
   ]
  },
  {
   "cell_type": "markdown",
   "metadata": {},
   "source": [
    "### Sourtcuts:\n",
    "\n",
    "1) [a] - Insert a Cell Above; [b] - Insert a Cell Below.\n",
    "2) the keyboard shortcut: [m] - Convert Cell to Markdown"
   ]
  },
  {
   "cell_type": "code",
   "execution_count": 33,
   "metadata": {},
   "outputs": [
    {
     "name": "stdout",
     "output_type": "stream",
     "text": [
      "Hello World\n"
     ]
    }
   ],
   "source": [
    "print(\"Hello World\")"
   ]
  },
  {
   "cell_type": "code",
   "execution_count": 34,
   "metadata": {},
   "outputs": [
    {
     "name": "stdout",
     "output_type": "stream",
     "text": [
      "Hello, ANAKIN\n"
     ]
    }
   ],
   "source": [
    "my_name= \"ANAKIN\"\n",
    "print(f\"Hello, {my_name}\")"
   ]
  },
  {
   "cell_type": "code",
   "execution_count": 35,
   "metadata": {},
   "outputs": [
    {
     "name": "stdout",
     "output_type": "stream",
     "text": [
      "Multiplication Result: 50\n",
      "Addition Result: 15\n"
     ]
    }
   ],
   "source": [
    "# Multiply and add numbers\n",
    "num1 = 5\n",
    "num2 = 10\n",
    "\n",
    "result_multiply = num1 * num2\n",
    "result_add = num1 + num2\n",
    "\n",
    "print(f\"Multiplication Result: {result_multiply}\")\n",
    "print(f\"Addition Result: {result_add}\")"
   ]
  },
  {
   "cell_type": "code",
   "execution_count": 36,
   "metadata": {},
   "outputs": [
    {
     "name": "stdout",
     "output_type": "stream",
     "text": [
      "120 minutes is equal to 2.0 hours\n"
     ]
    }
   ],
   "source": [
    "# Function to convert minutes to hours\n",
    "def minutes_to_hours(minutes):\n",
    "    return minutes / 60\n",
    "\n",
    "# Example usage\n",
    "minutes = 120\n",
    "hours = minutes_to_hours(minutes)\n",
    "print(f\"{minutes} minutes is equal to {hours} hours\")"
   ]
  },
  {
   "cell_type": "code",
   "execution_count": null,
   "metadata": {
    "vscode": {
     "languageId": "markdown"
    }
   },
   "outputs": [],
   "source": []
  },
  {
   "cell_type": "markdown",
   "metadata": {},
   "source": []
  }
 ],
 "metadata": {
  "kernelspec": {
   "display_name": "Python 3",
   "language": "python",
   "name": "python3"
  },
  "language_info": {
   "codemirror_mode": {
    "name": "ipython",
    "version": 3
   },
   "file_extension": ".py",
   "mimetype": "text/x-python",
   "name": "python",
   "nbconvert_exporter": "python",
   "pygments_lexer": "ipython3",
   "version": "3.13.2"
  }
 },
 "nbformat": 4,
 "nbformat_minor": 4
}
